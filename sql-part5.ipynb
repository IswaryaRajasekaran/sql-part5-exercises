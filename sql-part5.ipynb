{
    "metadata": {
        "kernelspec": {
            "name": "SQL",
            "display_name": "SQL",
            "language": "sql"
        },
        "language_info": {
            "name": "sql",
            "version": ""
        }
    },
    "nbformat_minor": 2,
    "nbformat": 4,
    "cells": [
        {
            "cell_type": "markdown",
            "source": [
                "# Exercises: Creating, Updating, and Destroying Objects\n",
                "\n",
                "For the exercises, you will be working with objects and data you create. Before opening this notebook, make sure that you have set up the new connection to the server and that you have located the database and your schema.\n",
                "\n",
                "## Object Creation\n",
                "\n",
                "Before coding, think of three things you want to make. These could be coding projects, new recipes, or planned projects for a woodworking hobby. Brainstorm the appropriate column names and data types as well.\n",
                "\n",
                "Create a table under your schema called `planned_makes`."
            ],
            "metadata": {
                "azdata_cell_guid": "9d51c166-0c19-4f27-a422-2a6cf596bfb2"
            },
            "attachments": {}
        },
        {
            "cell_type": "code",
            "source": [
                "CREATE TABLE iswarya.planned_makes (\r\n",
                "    project_id INT PRIMARY KEY,\r\n",
                "    project_type VARCHAR(255),\r\n",
                "    project_name VARCHAR(255),\r\n",
                "    programming_language VARCHAR(255),\r\n",
                "    planned_completion_date DATE,\r\n",
                "    project_description TEXT,\r\n",
                "    main_ingredients VARCHAR(255),\r\n",
                "    preparation_time INT,\r\n",
                "    difficulty_level VARCHAR(255),\r\n",
                "    recipe_description TEXT,\r\n",
                "    wood_type VARCHAR(255),\r\n",
                "    dimensions VARCHAR(255),\r\n",
                "    special_features TEXT\r\n",
                ");\r\n",
                ""
            ],
            "metadata": {
                "azdata_cell_guid": "d9238911-6f81-4f01-980d-b584307effaf",
                "language": "sql",
                "tags": []
            },
            "outputs": [
                {
                    "output_type": "display_data",
                    "data": {
                        "text/html": "Commands completed successfully."
                    },
                    "metadata": {}
                },
                {
                    "output_type": "display_data",
                    "data": {
                        "text/html": "Total execution time: 00:00:00.062"
                    },
                    "metadata": {}
                }
            ],
            "execution_count": 61
        },
        {
            "cell_type": "markdown",
            "source": [
                "Add three rows to your table that are your planned makes."
            ],
            "metadata": {
                "azdata_cell_guid": "83cdf34d-8c4f-4fa1-a14e-77384b19d734"
            }
        },
        {
            "cell_type": "code",
            "source": [
                "insert into Iswarya.planned_makes\r\n",
                "values (1,'A type','Project A','python','2023-05-15','All in one project','salad',2,'50% level of dificulty','healthy','rosewood','20*20','shinny'),\r\n",
                "       (2,'B type','Project B','python','2023-06-24','Good project','yogurt',5,'no difficulty level','healthy','sandalwood','15*20','nice smell'),\r\n",
                "       (3,'C type','Project c','sql','2024-07-12','creative project','pizza',3,'50% level of difficulty','not healthy but tasty','plain wood','15*15','good')\r\n",
                "\r\n",
                "\r\n",
                "select * from Iswarya.planned_makes"
            ],
            "metadata": {
                "azdata_cell_guid": "e7cff9cb-87ba-4c7b-98f2-eaf445e8719c",
                "language": "sql",
                "tags": []
            },
            "outputs": [
                {
                    "output_type": "display_data",
                    "data": {
                        "text/html": "(3 rows affected)"
                    },
                    "metadata": {}
                },
                {
                    "output_type": "display_data",
                    "data": {
                        "text/html": "(3 rows affected)"
                    },
                    "metadata": {}
                },
                {
                    "output_type": "display_data",
                    "data": {
                        "text/html": "Total execution time: 00:00:00.087"
                    },
                    "metadata": {}
                },
                {
                    "output_type": "execute_result",
                    "metadata": {},
                    "execution_count": 62,
                    "data": {
                        "application/vnd.dataresource+json": {
                            "schema": {
                                "fields": [
                                    {
                                        "name": "project_id"
                                    },
                                    {
                                        "name": "project_type"
                                    },
                                    {
                                        "name": "project_name"
                                    },
                                    {
                                        "name": "programming_language"
                                    },
                                    {
                                        "name": "planned_completion_date"
                                    },
                                    {
                                        "name": "project_description"
                                    },
                                    {
                                        "name": "main_ingredients"
                                    },
                                    {
                                        "name": "preparation_time"
                                    },
                                    {
                                        "name": "difficulty_level"
                                    },
                                    {
                                        "name": "recipe_description"
                                    },
                                    {
                                        "name": "wood_type"
                                    },
                                    {
                                        "name": "dimensions"
                                    },
                                    {
                                        "name": "special_features"
                                    }
                                ]
                            },
                            "data": [
                                {
                                    "project_id": "1",
                                    "project_type": "A type",
                                    "project_name": "Project A",
                                    "programming_language": "python",
                                    "planned_completion_date": "2023-05-15",
                                    "project_description": "All in one project",
                                    "main_ingredients": "salad",
                                    "preparation_time": "2",
                                    "difficulty_level": "50% level of dificulty",
                                    "recipe_description": "healthy",
                                    "wood_type": "rosewood",
                                    "dimensions": "20*20",
                                    "special_features": "shinny"
                                },
                                {
                                    "project_id": "2",
                                    "project_type": "B type",
                                    "project_name": "Project B",
                                    "programming_language": "python",
                                    "planned_completion_date": "2023-06-24",
                                    "project_description": "Good project",
                                    "main_ingredients": "yogurt",
                                    "preparation_time": "5",
                                    "difficulty_level": "no difficulty level",
                                    "recipe_description": "healthy",
                                    "wood_type": "sandalwood",
                                    "dimensions": "15*20",
                                    "special_features": "nice smell"
                                },
                                {
                                    "project_id": "3",
                                    "project_type": "C type",
                                    "project_name": "Project c",
                                    "programming_language": "sql",
                                    "planned_completion_date": "2024-07-12",
                                    "project_description": "creative project",
                                    "main_ingredients": "pizza",
                                    "preparation_time": "3",
                                    "difficulty_level": "50% level of difficulty",
                                    "recipe_description": "not healthy but tasty",
                                    "wood_type": "plain wood",
                                    "dimensions": "15*15",
                                    "special_features": "good"
                                }
                            ]
                        },
                        "text/html": [
                            "<table>",
                            "<tr><th>project_id</th><th>project_type</th><th>project_name</th><th>programming_language</th><th>planned_completion_date</th><th>project_description</th><th>main_ingredients</th><th>preparation_time</th><th>difficulty_level</th><th>recipe_description</th><th>wood_type</th><th>dimensions</th><th>special_features</th></tr>",
                            "<tr><td>1</td><td>A type</td><td>Project A</td><td>python</td><td>2023-05-15</td><td>All in one project</td><td>salad</td><td>2</td><td>50% level of dificulty</td><td>healthy</td><td>rosewood</td><td>20*20</td><td>shinny</td></tr>",
                            "<tr><td>2</td><td>B type</td><td>Project B</td><td>python</td><td>2023-06-24</td><td>Good project</td><td>yogurt</td><td>5</td><td>no difficulty level</td><td>healthy</td><td>sandalwood</td><td>15*20</td><td>nice smell</td></tr>",
                            "<tr><td>3</td><td>C type</td><td>Project c</td><td>sql</td><td>2024-07-12</td><td>creative project</td><td>pizza</td><td>3</td><td>50% level of difficulty</td><td>not healthy but tasty</td><td>plain wood</td><td>15*15</td><td>good</td></tr>",
                            "</table>"
                        ]
                    }
                }
            ],
            "execution_count": 62
        },
        {
            "cell_type": "markdown",
            "source": [
                "## Update a Row\n",
                "\n",
                "Change different values in one of your three rows."
            ],
            "metadata": {
                "azdata_cell_guid": "4a39b8d4-ae97-4e09-8336-c5fc6a00d76c"
            },
            "attachments": {}
        },
        {
            "cell_type": "code",
            "source": [
                "update Iswarya.planned_makes\r\n",
                "set project_id = 15,project_type ='A & B type',project_name = 'Project S',programming_language = 'SQL',planned_completion_date = '2023-12-24',project_description = 'nice project',main_ingredients = 'fruits',preparation_time = 1,difficulty_level = '0% difficulty',recipe_description = 'healthy',wood_type = 'teakwood',dimensions = '12*14',special_features = 'strong'\r\n",
                "where project_id =3\r\n",
                "\r\n",
                "select * from Iswarya.planned_makes"
            ],
            "metadata": {
                "azdata_cell_guid": "7409c695-9581-4ad8-b03a-574d2c4c87cb",
                "language": "sql"
            },
            "outputs": [
                {
                    "output_type": "display_data",
                    "data": {
                        "text/html": "(1 row affected)"
                    },
                    "metadata": {}
                },
                {
                    "output_type": "display_data",
                    "data": {
                        "text/html": "(3 rows affected)"
                    },
                    "metadata": {}
                },
                {
                    "output_type": "display_data",
                    "data": {
                        "text/html": "Total execution time: 00:00:00.102"
                    },
                    "metadata": {}
                },
                {
                    "output_type": "execute_result",
                    "metadata": {},
                    "execution_count": 63,
                    "data": {
                        "application/vnd.dataresource+json": {
                            "schema": {
                                "fields": [
                                    {
                                        "name": "project_id"
                                    },
                                    {
                                        "name": "project_type"
                                    },
                                    {
                                        "name": "project_name"
                                    },
                                    {
                                        "name": "programming_language"
                                    },
                                    {
                                        "name": "planned_completion_date"
                                    },
                                    {
                                        "name": "project_description"
                                    },
                                    {
                                        "name": "main_ingredients"
                                    },
                                    {
                                        "name": "preparation_time"
                                    },
                                    {
                                        "name": "difficulty_level"
                                    },
                                    {
                                        "name": "recipe_description"
                                    },
                                    {
                                        "name": "wood_type"
                                    },
                                    {
                                        "name": "dimensions"
                                    },
                                    {
                                        "name": "special_features"
                                    }
                                ]
                            },
                            "data": [
                                {
                                    "project_id": "1",
                                    "project_type": "A type",
                                    "project_name": "Project A",
                                    "programming_language": "python",
                                    "planned_completion_date": "2023-05-15",
                                    "project_description": "All in one project",
                                    "main_ingredients": "salad",
                                    "preparation_time": "2",
                                    "difficulty_level": "50% level of dificulty",
                                    "recipe_description": "healthy",
                                    "wood_type": "rosewood",
                                    "dimensions": "20*20",
                                    "special_features": "shinny"
                                },
                                {
                                    "project_id": "2",
                                    "project_type": "B type",
                                    "project_name": "Project B",
                                    "programming_language": "python",
                                    "planned_completion_date": "2023-06-24",
                                    "project_description": "Good project",
                                    "main_ingredients": "yogurt",
                                    "preparation_time": "5",
                                    "difficulty_level": "no difficulty level",
                                    "recipe_description": "healthy",
                                    "wood_type": "sandalwood",
                                    "dimensions": "15*20",
                                    "special_features": "nice smell"
                                },
                                {
                                    "project_id": "15",
                                    "project_type": "A & B type",
                                    "project_name": "Project S",
                                    "programming_language": "SQL",
                                    "planned_completion_date": "2023-12-24",
                                    "project_description": "nice project",
                                    "main_ingredients": "fruits",
                                    "preparation_time": "1",
                                    "difficulty_level": "0% difficulty",
                                    "recipe_description": "healthy",
                                    "wood_type": "teakwood",
                                    "dimensions": "12*14",
                                    "special_features": "strong"
                                }
                            ]
                        },
                        "text/html": [
                            "<table>",
                            "<tr><th>project_id</th><th>project_type</th><th>project_name</th><th>programming_language</th><th>planned_completion_date</th><th>project_description</th><th>main_ingredients</th><th>preparation_time</th><th>difficulty_level</th><th>recipe_description</th><th>wood_type</th><th>dimensions</th><th>special_features</th></tr>",
                            "<tr><td>1</td><td>A type</td><td>Project A</td><td>python</td><td>2023-05-15</td><td>All in one project</td><td>salad</td><td>2</td><td>50% level of dificulty</td><td>healthy</td><td>rosewood</td><td>20*20</td><td>shinny</td></tr>",
                            "<tr><td>2</td><td>B type</td><td>Project B</td><td>python</td><td>2023-06-24</td><td>Good project</td><td>yogurt</td><td>5</td><td>no difficulty level</td><td>healthy</td><td>sandalwood</td><td>15*20</td><td>nice smell</td></tr>",
                            "<tr><td>15</td><td>A &amp; B type</td><td>Project S</td><td>SQL</td><td>2023-12-24</td><td>nice project</td><td>fruits</td><td>1</td><td>0% difficulty</td><td>healthy</td><td>teakwood</td><td>12*14</td><td>strong</td></tr>",
                            "</table>"
                        ]
                    }
                }
            ],
            "execution_count": 63
        },
        {
            "cell_type": "markdown",
            "source": [
                "## Delete a Row\n",
                "\n",
                "Delete one of the rows from your table."
            ],
            "metadata": {
                "azdata_cell_guid": "95e91a6e-9038-42d9-9401-5738842aba17"
            }
        },
        {
            "cell_type": "code",
            "source": [
                "delete from Iswarya.planned_makes\r\n",
                "where main_ingredients ='salad'\r\n",
                "\r\n",
                "select * from Iswarya.planned_makes"
            ],
            "metadata": {
                "azdata_cell_guid": "749c748f-19b5-4c69-9004-b6b20216616a",
                "language": "sql"
            },
            "outputs": [
                {
                    "output_type": "display_data",
                    "data": {
                        "text/html": "(1 row affected)"
                    },
                    "metadata": {}
                },
                {
                    "output_type": "display_data",
                    "data": {
                        "text/html": "(2 rows affected)"
                    },
                    "metadata": {}
                },
                {
                    "output_type": "display_data",
                    "data": {
                        "text/html": "Total execution time: 00:00:00.163"
                    },
                    "metadata": {}
                },
                {
                    "output_type": "execute_result",
                    "metadata": {},
                    "execution_count": 64,
                    "data": {
                        "application/vnd.dataresource+json": {
                            "schema": {
                                "fields": [
                                    {
                                        "name": "project_id"
                                    },
                                    {
                                        "name": "project_type"
                                    },
                                    {
                                        "name": "project_name"
                                    },
                                    {
                                        "name": "programming_language"
                                    },
                                    {
                                        "name": "planned_completion_date"
                                    },
                                    {
                                        "name": "project_description"
                                    },
                                    {
                                        "name": "main_ingredients"
                                    },
                                    {
                                        "name": "preparation_time"
                                    },
                                    {
                                        "name": "difficulty_level"
                                    },
                                    {
                                        "name": "recipe_description"
                                    },
                                    {
                                        "name": "wood_type"
                                    },
                                    {
                                        "name": "dimensions"
                                    },
                                    {
                                        "name": "special_features"
                                    }
                                ]
                            },
                            "data": [
                                {
                                    "project_id": "2",
                                    "project_type": "B type",
                                    "project_name": "Project B",
                                    "programming_language": "python",
                                    "planned_completion_date": "2023-06-24",
                                    "project_description": "Good project",
                                    "main_ingredients": "yogurt",
                                    "preparation_time": "5",
                                    "difficulty_level": "no difficulty level",
                                    "recipe_description": "healthy",
                                    "wood_type": "sandalwood",
                                    "dimensions": "15*20",
                                    "special_features": "nice smell"
                                },
                                {
                                    "project_id": "15",
                                    "project_type": "A & B type",
                                    "project_name": "Project S",
                                    "programming_language": "SQL",
                                    "planned_completion_date": "2023-12-24",
                                    "project_description": "nice project",
                                    "main_ingredients": "fruits",
                                    "preparation_time": "1",
                                    "difficulty_level": "0% difficulty",
                                    "recipe_description": "healthy",
                                    "wood_type": "teakwood",
                                    "dimensions": "12*14",
                                    "special_features": "strong"
                                }
                            ]
                        },
                        "text/html": [
                            "<table>",
                            "<tr><th>project_id</th><th>project_type</th><th>project_name</th><th>programming_language</th><th>planned_completion_date</th><th>project_description</th><th>main_ingredients</th><th>preparation_time</th><th>difficulty_level</th><th>recipe_description</th><th>wood_type</th><th>dimensions</th><th>special_features</th></tr>",
                            "<tr><td>2</td><td>B type</td><td>Project B</td><td>python</td><td>2023-06-24</td><td>Good project</td><td>yogurt</td><td>5</td><td>no difficulty level</td><td>healthy</td><td>sandalwood</td><td>15*20</td><td>nice smell</td></tr>",
                            "<tr><td>15</td><td>A &amp; B type</td><td>Project S</td><td>SQL</td><td>2023-12-24</td><td>nice project</td><td>fruits</td><td>1</td><td>0% difficulty</td><td>healthy</td><td>teakwood</td><td>12*14</td><td>strong</td></tr>",
                            "</table>"
                        ]
                    }
                }
            ],
            "execution_count": 64
        },
        {
            "cell_type": "markdown",
            "source": [
                "## Drop the Table\n",
                "\n",
                "While this has been fun, it is time to drop the table!"
            ],
            "metadata": {
                "azdata_cell_guid": "2239cb09-137b-4579-905b-1aa020793181"
            },
            "attachments": {}
        },
        {
            "cell_type": "code",
            "source": [
                "drop table Iswarya.planned_makes\r\n",
                "\r\n",
                "select * from Iswarya.planned_makes"
            ],
            "metadata": {
                "azdata_cell_guid": "b3c7f6ea-ee26-46b3-9c2a-2f7a82c39699",
                "language": "sql"
            },
            "outputs": [
                {
                    "output_type": "error",
                    "evalue": "Msg 208, Level 16, State 1, Line 3\r\nInvalid object name 'Iswarya.planned_makes'.",
                    "ename": "",
                    "traceback": []
                },
                {
                    "output_type": "display_data",
                    "data": {
                        "text/html": "Total execution time: 00:00:00.051"
                    },
                    "metadata": {}
                }
            ],
            "execution_count": 65
        }
    ]
}